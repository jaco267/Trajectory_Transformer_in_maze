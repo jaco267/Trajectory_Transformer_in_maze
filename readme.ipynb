{
 "cells": [
  {
   "cell_type": "markdown",
   "metadata": {},
   "source": [
    "### [Trajectory transformer](https://github.com/jannerm/trajectory-transformer) in maze environment.   \n",
    "This implementaion is self-contained, so you don't need to install openAI gym or d4rl.    \n",
    "The maze environment is in the maze folder.        "
   ]
  },
  {
   "cell_type": "code",
   "execution_count": null,
   "metadata": {
    "vscode": {
     "languageId": "shellscript"
    }
   },
   "outputs": [],
   "source": [
    "python --version\n",
    "# Python 3.10.12"
   ]
  },
  {
   "cell_type": "markdown",
   "metadata": {},
   "source": [
    "#### 1. play with maze environment\n",
    "Run the following command to get familiar with the maze environment "
   ]
  },
  {
   "cell_type": "code",
   "execution_count": null,
   "metadata": {
    "vscode": {
     "languageId": "shellscript"
    }
   },
   "outputs": [],
   "source": [
    "python maze/gen_data.py --mode play"
   ]
  },
  {
   "cell_type": "markdown",
   "metadata": {},
   "source": [
    "number 8 is player      \n",
    "number 4 is goal       \n",
    "number 1 is wall    \n",
    "press w,a,s,d to move the player, if you press other keys the player will stay in the same place     \n",
    "In this example the timeout step is 10 (game over after 10 steps)"
   ]
  },
  {
   "cell_type": "markdown",
   "metadata": {},
   "source": [
    "\n",
    "<img src=\"assets/maze_environment.png\" alt= “” width=\"600px\" >"
   ]
  },
  {
   "cell_type": "markdown",
   "metadata": {},
   "source": [
    "#### 2. generate maze dataset\n",
    "run the following command to generate random agent maze dataset\n",
    "(randomly choose action in uniform distribution).    \n",
    "This will generate a data file in `datasets/maze/train/buf0.pt`      \n",
    "        \n",
    "In this example we'll generate a maze dataset with 1000_000 steps.   \n",
    "It will take about 10 minutes"
   ]
  },
  {
   "cell_type": "code",
   "execution_count": null,
   "metadata": {
    "vscode": {
     "languageId": "shellscript"
    }
   },
   "outputs": [],
   "source": [
    "python maze/gen_data.py --mode gen --n_steps 1000_000 --file_size 1000_000 --time_out 50"
   ]
  },
  {
   "cell_type": "markdown",
   "metadata": {},
   "source": [
    "#### 3. train the agent \n",
    "The agent (gpt) will learn the state transition of the maze environment \n",
    "from the maze dataset we've already generated.      \n",
    "In this example we'll only train 1 epoch.  \n",
    "This will takes about 15 min on a RTX3060 gpu.   "
   ]
  },
  {
   "cell_type": "code",
   "execution_count": null,
   "metadata": {
    "vscode": {
     "languageId": "shellscript"
    }
   },
   "outputs": [],
   "source": [
    "#  It will generate /logs/maze/gpt/pretrained/state_1.pt\n",
    "python my_conf_maze/train.py --max_path_length 61  --n_epochs_ref 1  --n_saves 1   \n",
    "                               #50+10+1 ini_state #maze step max_len +subseq_len+1"
   ]
  },
  {
   "cell_type": "markdown",
   "metadata": {},
   "source": [
    "### 4. test the agent (planning) \n",
    "run the following command to watch the agent play with the maze   "
   ]
  },
  {
   "cell_type": "code",
   "execution_count": null,
   "metadata": {
    "vscode": {
     "languageId": "shellscript"
    }
   },
   "outputs": [],
   "source": [
    "python my_conf_maze/plan.py --horizon 5 --beam_width 32  --seed 43 --enable_breakpoint False"
   ]
  },
  {
   "cell_type": "code",
   "execution_count": null,
   "metadata": {
    "vscode": {
     "languageId": "shellscript"
    }
   },
   "outputs": [],
   "source": [
    "python my_conf_maze/plan.py --horizon 5 --beam_width 32  --seed 42\n",
    "#press c to continue "
   ]
  },
  {
   "cell_type": "markdown",
   "metadata": {},
   "source": [
    "```\n",
    "[ Progress ] 5 / 5 | discount: 0.9900 | vmax: -4.9025 | vmin: -21.3585 | vtmax: -0.0016 | vtmin: -17.7038 | x: [32, 95] | 6.6 Hz\n",
    "[4.] should be 0~4                                                                                  \n",
    "[[0. 0. 1. 0.]                                                                                      \n",
    " [0. 4. 0. 1.]\n",
    " [1. 0. 0. 0.]\n",
    " [2. 0. 0. 1.]] right\n",
    "(Pdb) c        #press c in here to continue 2 is player 4 is goal\n",
    "[ Progress ] 5 / 5 | discount: 0.9900 | vmax: -4.9025 | vmin: -4.9031 | vtmax: -0.0016 | vtmin: -16.6616 | x: [32, 114] | 18.5 Hz\n",
    "[1.] should be 0~4                                                                                  \n",
    "[[0. 0. 1. 0.]                                                                                      \n",
    " [0. 4. 0. 1.]\n",
    " [1. 0. 0. 0.]\n",
    " [0. 2. 0. 1.]] up\n",
    "(Pdb) c       #press c in here to continue 2 is player 4 is goal \n",
    "[ Progress ] 5 / 5 | discount: 0.9900 | vmax: -4.9025 | vmin: -4.9025 | vtmax: -0.0016 | vtmin: -0.0016 | x: [32, 133] | 17.0 Hz\n",
    "[1.] should be 0~4                                                                                  \n",
    "[[0. 0. 1. 0.]                                                                                      \n",
    " [0. 4. 0. 1.]\n",
    " [1. 2. 0. 0.]\n",
    " [0. 0. 0. 1.]] up\n",
    "(Pdb) c       #press c in here to continue 2 is player 4 is goal \n",
    "```"
   ]
  },
  {
   "cell_type": "code",
   "execution_count": null,
   "metadata": {
    "vscode": {
     "languageId": "shellscript"
    }
   },
   "outputs": [],
   "source": [
    "#  sometimes it will stuck at the corner\n",
    "python my_conf_maze/plan.py --horizon 5 --beam_width 64  --seed 35\n",
    "python my_conf_maze/plan.py --horizon 8 --beam_width 256  --seed 35\n",
    "python my_conf_maze/plan.py --horizon 5 --beam_width 64  "
   ]
  }
 ],
 "metadata": {
  "language_info": {
   "name": "python"
  },
  "orig_nbformat": 4
 },
 "nbformat": 4,
 "nbformat_minor": 2
}
